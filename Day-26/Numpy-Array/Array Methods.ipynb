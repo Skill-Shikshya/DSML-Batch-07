{
 "cells": [
  {
   "cell_type": "markdown",
   "id": "8e33f6ee-1b01-405e-aa48-00ccfdfeed87",
   "metadata": {},
   "source": [
    "## NumPy Array Properties and Methods\n",
    "\n",
    "NumPy arrays have several useful properties and methods that can be used to manipulate them.\n",
    "\n",
    "- `shape`: Property that returns the dimensions of the array\n",
    "- `ndim`: Property that returns number of array dimensions\n",
    "- `dtype`: Property that returns data-type of the array’s elements\n",
    "- `T`: Transpose of the array’s elements\n",
    "- -------------------------------------------------------------------\n",
    "- `reshape()`: Method to change the dimensions of an array. The product of old dimensions should match the product of new dimensions\n",
    "- `ravel()`: Method that collapses all values into a single axis or dimension and returns view of original array\n",
    "- `flatten()`: Method that collapses all values into a single axis or dimension and returns an independent copy of original array\n",
    "- `np.concatenate()`: Method to concatenate two or more arrays\n",
    "- `sum()`: Method that returns the sum of all elements in an array\n",
    "- `cumsum()`: Method that returns cumulative sum over given axis\n",
    "- `prod()`: Method that compute product over given axis\n",
    "- `max()`: Method that returns the maximum along a given axis\n",
    "- `argmax()`: Method that returns indeces of the maximum values along a given axis\n",
    "- `clip()`: Clip values beyond range to threshold values\n",
    "- `np.split()`: Method to split an array into multiple sub-arrays\n",
    "- `np.vstack()`: Method to stack arrays vertically\n",
    "- `np.hstack()`: Method to stack arrays horizontally"
   ]
  },
  {
   "cell_type": "code",
   "execution_count": 1,
   "id": "f494902d-2ecb-44be-84b2-d625589a0849",
   "metadata": {},
   "outputs": [],
   "source": [
    "import numpy as np"
   ]
  },
  {
   "cell_type": "code",
   "execution_count": 2,
   "id": "c72c1c24-0175-4433-8c79-1a2f01972584",
   "metadata": {},
   "outputs": [],
   "source": [
    "a = np.random.randint(10,50, size = (5,2,3))"
   ]
  },
  {
   "cell_type": "code",
   "execution_count": 3,
   "id": "6e63c3ad-2dd7-4871-905c-b2900ed8d1d5",
   "metadata": {},
   "outputs": [
    {
     "data": {
      "text/plain": [
       "(5, 2, 3)"
      ]
     },
     "execution_count": 3,
     "metadata": {},
     "output_type": "execute_result"
    }
   ],
   "source": [
    "a.shape"
   ]
  },
  {
   "cell_type": "code",
   "execution_count": 4,
   "id": "c22b1600-6462-4eee-9a6e-7a6d0c493e70",
   "metadata": {},
   "outputs": [
    {
     "data": {
      "text/plain": [
       "3"
      ]
     },
     "execution_count": 4,
     "metadata": {},
     "output_type": "execute_result"
    }
   ],
   "source": [
    "a.ndim"
   ]
  },
  {
   "cell_type": "code",
   "execution_count": 5,
   "id": "4713c1e7-fef0-4bad-b952-220db4ff9c47",
   "metadata": {},
   "outputs": [
    {
     "data": {
      "text/plain": [
       "dtype('int64')"
      ]
     },
     "execution_count": 5,
     "metadata": {},
     "output_type": "execute_result"
    }
   ],
   "source": [
    "a.dtype"
   ]
  },
  {
   "cell_type": "code",
   "execution_count": 6,
   "id": "3304ecc7-8280-4456-947a-fa8a2a801688",
   "metadata": {},
   "outputs": [
    {
     "data": {
      "text/plain": [
       "30"
      ]
     },
     "execution_count": 6,
     "metadata": {},
     "output_type": "execute_result"
    }
   ],
   "source": [
    "a.size #Number of elements"
   ]
  },
  {
   "cell_type": "code",
   "execution_count": 7,
   "id": "9dad7d62-09e7-4e05-8b9a-9b7dfbad59e3",
   "metadata": {},
   "outputs": [
    {
     "data": {
      "text/plain": [
       "array([[[11, 31, 14, 19, 39],\n",
       "        [46, 34, 42, 33, 32]],\n",
       "\n",
       "       [[44, 32, 47, 28, 41],\n",
       "        [29, 27, 47, 12, 42]],\n",
       "\n",
       "       [[34, 23, 49, 34, 24],\n",
       "        [33, 12, 25, 21, 33]]])"
      ]
     },
     "execution_count": 7,
     "metadata": {},
     "output_type": "execute_result"
    }
   ],
   "source": [
    "a.T"
   ]
  },
  {
   "cell_type": "code",
   "execution_count": null,
   "id": "6ae8612d-11fb-4d66-aa57-9e4f50220e1c",
   "metadata": {},
   "outputs": [],
   "source": []
  },
  {
   "cell_type": "code",
   "execution_count": 8,
   "id": "05ce628c-6558-439f-ae74-7b4e160f44ce",
   "metadata": {},
   "outputs": [
    {
     "data": {
      "text/plain": [
       "(5, 2, 3)"
      ]
     },
     "execution_count": 8,
     "metadata": {},
     "output_type": "execute_result"
    }
   ],
   "source": [
    "a.shape"
   ]
  },
  {
   "cell_type": "code",
   "execution_count": 9,
   "id": "6fd6e798-7a30-4f48-a18e-2fbb032470dc",
   "metadata": {},
   "outputs": [
    {
     "data": {
      "text/plain": [
       "array([[[11, 44, 34, 46, 29],\n",
       "        [33, 31, 32, 23, 34],\n",
       "        [27, 12, 14, 47, 49]],\n",
       "\n",
       "       [[42, 47, 25, 19, 28],\n",
       "        [34, 33, 12, 21, 39],\n",
       "        [41, 24, 32, 42, 33]]])"
      ]
     },
     "execution_count": 9,
     "metadata": {},
     "output_type": "execute_result"
    }
   ],
   "source": [
    "a.reshape(2,3,5)"
   ]
  },
  {
   "cell_type": "code",
   "execution_count": 10,
   "id": "9006efc9-b643-42fe-bef8-7c3beda84136",
   "metadata": {},
   "outputs": [
    {
     "data": {
      "text/plain": [
       "array([[[11, 44, 34, 46, 29],\n",
       "        [33, 31, 32, 23, 34],\n",
       "        [27, 12, 14, 47, 49]],\n",
       "\n",
       "       [[42, 47, 25, 19, 28],\n",
       "        [34, 33, 12, 21, 39],\n",
       "        [41, 24, 32, 42, 33]]])"
      ]
     },
     "execution_count": 10,
     "metadata": {},
     "output_type": "execute_result"
    }
   ],
   "source": [
    "a.reshape(-1,3,5)"
   ]
  },
  {
   "cell_type": "code",
   "execution_count": 11,
   "id": "dc45af86-7acd-4d57-af0f-351c2b4da240",
   "metadata": {},
   "outputs": [
    {
     "data": {
      "text/plain": [
       "array([11, 44, 34, 46, 29, 33, 31, 32, 23, 34, 27, 12, 14, 47, 49, 42, 47,\n",
       "       25, 19, 28, 34, 33, 12, 21, 39, 41, 24, 32, 42, 33])"
      ]
     },
     "execution_count": 11,
     "metadata": {},
     "output_type": "execute_result"
    }
   ],
   "source": [
    "a.ravel()"
   ]
  },
  {
   "cell_type": "code",
   "execution_count": 12,
   "id": "fc892541-f1bb-4488-81d3-789f56e57437",
   "metadata": {},
   "outputs": [
    {
     "data": {
      "text/plain": [
       "array([11, 44, 34, 46, 29, 33, 31, 32, 23, 34, 27, 12, 14, 47, 49, 42, 47,\n",
       "       25, 19, 28, 34, 33, 12, 21, 39, 41, 24, 32, 42, 33])"
      ]
     },
     "execution_count": 12,
     "metadata": {},
     "output_type": "execute_result"
    }
   ],
   "source": [
    "a.flatten()"
   ]
  },
  {
   "cell_type": "code",
   "execution_count": 13,
   "id": "b5dfebce-79b0-4b94-bca9-5ddf40a09074",
   "metadata": {},
   "outputs": [
    {
     "data": {
      "text/plain": [
       "(array([[9, 7, 8],\n",
       "        [6, 8, 9]]),\n",
       " array([[7, 6, 4],\n",
       "        [5, 4, 2]]))"
      ]
     },
     "execution_count": 13,
     "metadata": {},
     "output_type": "execute_result"
    }
   ],
   "source": [
    "b = np.random.randint(1,10, (2,3))\n",
    "c = np.random.randint(1,10, (2,3))\n",
    "b, c"
   ]
  },
  {
   "cell_type": "markdown",
   "id": "12ef456b-6a29-4eda-8492-2802386767dd",
   "metadata": {},
   "source": [
    "### 0 > column wise > vsatck\n",
    "### 1 > row wise > hstack"
   ]
  },
  {
   "cell_type": "code",
   "execution_count": 14,
   "id": "bb6459e3-3ece-4e9b-aec3-151e6553e35c",
   "metadata": {},
   "outputs": [
    {
     "data": {
      "text/plain": [
       "array([[9, 7, 8],\n",
       "       [6, 8, 9],\n",
       "       [7, 6, 4],\n",
       "       [5, 4, 2]])"
      ]
     },
     "execution_count": 14,
     "metadata": {},
     "output_type": "execute_result"
    }
   ],
   "source": [
    "d= np.concatenate([b,c],axis=0)\n",
    "d"
   ]
  },
  {
   "cell_type": "code",
   "execution_count": 15,
   "id": "0289a7a2-5d92-4cea-acb0-3a5358a7ed65",
   "metadata": {},
   "outputs": [
    {
     "data": {
      "text/plain": [
       "array([[9, 7, 8],\n",
       "       [6, 8, 9],\n",
       "       [7, 6, 4],\n",
       "       [5, 4, 2]])"
      ]
     },
     "execution_count": 15,
     "metadata": {},
     "output_type": "execute_result"
    }
   ],
   "source": [
    "np.vstack((b,c))"
   ]
  },
  {
   "cell_type": "code",
   "execution_count": 16,
   "id": "4b691bf8-4393-418e-b181-7a520bca56fa",
   "metadata": {},
   "outputs": [
    {
     "data": {
      "text/plain": [
       "array([[9, 7, 8, 7, 6, 4],\n",
       "       [6, 8, 9, 5, 4, 2]])"
      ]
     },
     "execution_count": 16,
     "metadata": {},
     "output_type": "execute_result"
    }
   ],
   "source": [
    "np.hstack((b,c))"
   ]
  },
  {
   "cell_type": "code",
   "execution_count": 17,
   "id": "e0a6383e-737c-40b4-a226-ac372cdaba9a",
   "metadata": {},
   "outputs": [
    {
     "data": {
      "text/plain": [
       "[array([[9],\n",
       "        [6],\n",
       "        [7],\n",
       "        [5]]),\n",
       " array([[7],\n",
       "        [8],\n",
       "        [6],\n",
       "        [4]]),\n",
       " array([[8],\n",
       "        [9],\n",
       "        [4],\n",
       "        [2]])]"
      ]
     },
     "execution_count": 17,
     "metadata": {},
     "output_type": "execute_result"
    }
   ],
   "source": [
    "np.split(d,3, axis=1)"
   ]
  },
  {
   "cell_type": "code",
   "execution_count": null,
   "id": "881a986e-fa18-42c3-850d-c64d86a97c5a",
   "metadata": {},
   "outputs": [],
   "source": []
  },
  {
   "cell_type": "code",
   "execution_count": 32,
   "id": "41cb430a-59fc-4c7c-95bb-acd687ec2089",
   "metadata": {},
   "outputs": [
    {
     "data": {
      "text/plain": [
       "array([[ 9, 13,  9, 14,  8, 15],\n",
       "       [ 9,  2, 13, 11,  6, 12],\n",
       "       [ 5,  7,  7,  8, 12, 15],\n",
       "       [ 3,  7,  2, 13,  2, 15]])"
      ]
     },
     "execution_count": 32,
     "metadata": {},
     "output_type": "execute_result"
    }
   ],
   "source": [
    "z = np.random.randint(2,16, (4,6))\n",
    "z"
   ]
  },
  {
   "cell_type": "code",
   "execution_count": 33,
   "id": "461f93dc-0f4b-4bd3-b819-19da8e736fb2",
   "metadata": {},
   "outputs": [
    {
     "data": {
      "text/plain": [
       "array([26, 29, 31, 46, 28, 57])"
      ]
     },
     "execution_count": 33,
     "metadata": {},
     "output_type": "execute_result"
    }
   ],
   "source": [
    "z.sum(axis = 0)"
   ]
  },
  {
   "cell_type": "code",
   "execution_count": 34,
   "id": "492ff67f-3192-4bb6-a2a4-087a7d053f01",
   "metadata": {},
   "outputs": [
    {
     "data": {
      "text/plain": [
       "array([68, 53, 54, 42])"
      ]
     },
     "execution_count": 34,
     "metadata": {},
     "output_type": "execute_result"
    }
   ],
   "source": [
    "z.sum(axis = 1)"
   ]
  },
  {
   "cell_type": "code",
   "execution_count": 35,
   "id": "367cb72a-d465-4be4-8ff1-f48e84ed74f9",
   "metadata": {},
   "outputs": [
    {
     "data": {
      "text/plain": [
       "array([ 1215,  1274,  1638, 16016,  1152, 40500])"
      ]
     },
     "execution_count": 35,
     "metadata": {},
     "output_type": "execute_result"
    }
   ],
   "source": [
    "z.prod(axis  =0)"
   ]
  },
  {
   "cell_type": "code",
   "execution_count": 36,
   "id": "4525f5ed-62a3-4158-9b76-50f6e4c3b9d5",
   "metadata": {},
   "outputs": [
    {
     "data": {
      "text/plain": [
       "array([1769040,  185328,  352800,   16380])"
      ]
     },
     "execution_count": 36,
     "metadata": {},
     "output_type": "execute_result"
    }
   ],
   "source": [
    "z.prod(axis = 1)"
   ]
  },
  {
   "cell_type": "code",
   "execution_count": 37,
   "id": "f05f7f3e-098c-4d89-9e38-061050a94211",
   "metadata": {},
   "outputs": [
    {
     "data": {
      "text/plain": [
       "array([[ 9, 13,  9, 14,  8, 15],\n",
       "       [18, 15, 22, 25, 14, 27],\n",
       "       [23, 22, 29, 33, 26, 42],\n",
       "       [26, 29, 31, 46, 28, 57]])"
      ]
     },
     "execution_count": 37,
     "metadata": {},
     "output_type": "execute_result"
    }
   ],
   "source": [
    "z.cumsum(axis = 0)"
   ]
  },
  {
   "cell_type": "code",
   "execution_count": 38,
   "id": "7c9909c1-f435-4981-8477-9cb5000f80a3",
   "metadata": {},
   "outputs": [
    {
     "data": {
      "text/plain": [
       "array([8, 2, 5, 2])"
      ]
     },
     "execution_count": 38,
     "metadata": {},
     "output_type": "execute_result"
    }
   ],
   "source": [
    "z.min(axis= 1)"
   ]
  },
  {
   "cell_type": "code",
   "execution_count": 39,
   "id": "ab7ddfed-a1ac-46ef-bdb6-825a37d5a1dc",
   "metadata": {},
   "outputs": [
    {
     "data": {
      "text/plain": [
       "array([ 9, 13, 13, 14, 12, 15])"
      ]
     },
     "execution_count": 39,
     "metadata": {},
     "output_type": "execute_result"
    }
   ],
   "source": [
    "z.max(axis=0)"
   ]
  },
  {
   "cell_type": "code",
   "execution_count": 43,
   "id": "6d5d03ef-2aff-47f4-9f60-da71f45335e5",
   "metadata": {},
   "outputs": [
    {
     "data": {
      "text/plain": [
       "array([5, 2, 5, 5])"
      ]
     },
     "execution_count": 43,
     "metadata": {},
     "output_type": "execute_result"
    }
   ],
   "source": [
    "z.argmax(axis = 1) # index of max value"
   ]
  },
  {
   "cell_type": "code",
   "execution_count": 44,
   "id": "59cffd30-6275-404e-aade-35d45310f382",
   "metadata": {},
   "outputs": [
    {
     "data": {
      "text/plain": [
       "array([4, 1, 0, 2])"
      ]
     },
     "execution_count": 44,
     "metadata": {},
     "output_type": "execute_result"
    }
   ],
   "source": [
    "z.argmin(axis = 1) # # index of min value"
   ]
  },
  {
   "cell_type": "code",
   "execution_count": 45,
   "id": "6dd3f58c-211b-4d85-84ac-253f3747db06",
   "metadata": {},
   "outputs": [
    {
     "data": {
      "text/plain": [
       "array([[ 9, 10,  9, 10,  8, 10],\n",
       "       [ 9,  5, 10, 10,  6, 10],\n",
       "       [ 5,  7,  7,  8, 10, 10],\n",
       "       [ 5,  7,  5, 10,  5, 10]])"
      ]
     },
     "execution_count": 45,
     "metadata": {},
     "output_type": "execute_result"
    }
   ],
   "source": [
    "z.clip(5,10)"
   ]
  },
  {
   "cell_type": "code",
   "execution_count": null,
   "id": "ef51166f-be0f-4518-9b52-03f34c0f6ba8",
   "metadata": {},
   "outputs": [],
   "source": []
  }
 ],
 "metadata": {
  "kernelspec": {
   "display_name": "Python 3 (ipykernel)",
   "language": "python",
   "name": "python3"
  },
  "language_info": {
   "codemirror_mode": {
    "name": "ipython",
    "version": 3
   },
   "file_extension": ".py",
   "mimetype": "text/x-python",
   "name": "python",
   "nbconvert_exporter": "python",
   "pygments_lexer": "ipython3",
   "version": "3.10.12"
  }
 },
 "nbformat": 4,
 "nbformat_minor": 5
}
