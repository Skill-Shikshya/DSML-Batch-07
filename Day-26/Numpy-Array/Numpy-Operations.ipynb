{
 "cells": [
  {
   "cell_type": "markdown",
   "id": "aa4cb790-2af5-4fe5-8e86-ed2cb6dcfdd8",
   "metadata": {},
   "source": [
    "## 1. Elementwise Operations\n",
    "\n",
    "Refer to : https://numpy.org/doc/1.26/reference/array_api.html#elementwise-functions"
   ]
  },
  {
   "cell_type": "code",
   "execution_count": 1,
   "id": "a757a10c-0859-46ab-bc5e-e5633b0de38f",
   "metadata": {},
   "outputs": [],
   "source": [
    "import numpy as np"
   ]
  },
  {
   "cell_type": "code",
   "execution_count": 20,
   "id": "f6fa846d-0a6b-4cea-b345-62cee24314e6",
   "metadata": {},
   "outputs": [],
   "source": [
    "a = np.array([[4,5,6],[5,7,9]])\n",
    "b = np.array([[3,2,1],[9,8,1]])"
   ]
  },
  {
   "cell_type": "code",
   "execution_count": 13,
   "id": "f43c58f1-be46-4a72-8eb1-93cde948616c",
   "metadata": {},
   "outputs": [
    {
     "data": {
      "text/plain": [
       "(array([[4, 5, 6],\n",
       "        [5, 7, 9]]),\n",
       " array([[3, 2, 1],\n",
       "        [9, 8, 0]]))"
      ]
     },
     "execution_count": 13,
     "metadata": {},
     "output_type": "execute_result"
    }
   ],
   "source": [
    "a,b"
   ]
  },
  {
   "cell_type": "markdown",
   "id": "07d94895-d2c0-4623-a1d0-48561176dc63",
   "metadata": {},
   "source": [
    "### Arithmetic Operations"
   ]
  },
  {
   "cell_type": "code",
   "execution_count": 14,
   "id": "64fba381-dadf-46ec-a5e5-601dc6907eb3",
   "metadata": {},
   "outputs": [
    {
     "data": {
      "text/plain": [
       "array([[ 7,  7,  7],\n",
       "       [14, 15,  9]])"
      ]
     },
     "execution_count": 14,
     "metadata": {},
     "output_type": "execute_result"
    }
   ],
   "source": [
    "# a + b\n",
    "np.add(a,b)"
   ]
  },
  {
   "cell_type": "code",
   "execution_count": 6,
   "id": "0d479643-063e-4b4a-9293-31a556b2bad6",
   "metadata": {},
   "outputs": [
    {
     "data": {
      "text/plain": [
       "array([[ 1,  3,  5],\n",
       "       [-4, -1,  9]])"
      ]
     },
     "execution_count": 6,
     "metadata": {},
     "output_type": "execute_result"
    }
   ],
   "source": [
    "# a- b\n",
    "np.subtract(a,b)"
   ]
  },
  {
   "cell_type": "code",
   "execution_count": 15,
   "id": "8faf6e48-f890-447c-84e5-3858c569b1eb",
   "metadata": {},
   "outputs": [
    {
     "data": {
      "text/plain": [
       "array([[12, 10,  6],\n",
       "       [45, 56,  0]])"
      ]
     },
     "execution_count": 15,
     "metadata": {},
     "output_type": "execute_result"
    }
   ],
   "source": [
    "# a * b\n",
    "np.multiply(a,b)"
   ]
  },
  {
   "cell_type": "code",
   "execution_count": 18,
   "id": "a0458be3-b4b4-4994-b06a-88a251bb063f",
   "metadata": {},
   "outputs": [
    {
     "data": {
      "text/plain": [
       "array([[16, 25, 36],\n",
       "       [25, 49, 81]])"
      ]
     },
     "execution_count": 18,
     "metadata": {},
     "output_type": "execute_result"
    }
   ],
   "source": [
    "# a ** 2\n",
    "# np.square(a)\n",
    "np.power(a, 2)"
   ]
  },
  {
   "cell_type": "code",
   "execution_count": 24,
   "id": "0b12491a-20af-4029-885e-9a347429dff2",
   "metadata": {},
   "outputs": [],
   "source": [
    "# a % b\n",
    "quo, rem = np.divmod(a,b)"
   ]
  },
  {
   "cell_type": "code",
   "execution_count": 25,
   "id": "0ef77037-6223-49b9-a0c4-c818bf7a34db",
   "metadata": {},
   "outputs": [
    {
     "data": {
      "text/plain": [
       "array([[1, 1, 0],\n",
       "       [5, 7, 0]])"
      ]
     },
     "execution_count": 25,
     "metadata": {},
     "output_type": "execute_result"
    }
   ],
   "source": [
    "rem"
   ]
  },
  {
   "cell_type": "markdown",
   "id": "23086675-dbda-4de3-8af1-33a53b527dc5",
   "metadata": {},
   "source": [
    "### Trignometric"
   ]
  },
  {
   "cell_type": "code",
   "execution_count": 26,
   "id": "e40d30b4-b3eb-4dd1-90d4-f0f13b562d20",
   "metadata": {},
   "outputs": [
    {
     "data": {
      "text/plain": [
       "array([[-0.7568025 , -0.95892427, -0.2794155 ],\n",
       "       [-0.95892427,  0.6569866 ,  0.41211849]])"
      ]
     },
     "execution_count": 26,
     "metadata": {},
     "output_type": "execute_result"
    }
   ],
   "source": [
    "np.sin(a)"
   ]
  },
  {
   "cell_type": "code",
   "execution_count": 28,
   "id": "5407b75a-4943-49fc-879a-940b6616a860",
   "metadata": {},
   "outputs": [
    {
     "data": {
      "text/plain": [
       "array([[-7.01525255, -0.45765755,  0.64209262],\n",
       "       [-2.21084541, -0.14706506,  0.64209262]])"
      ]
     },
     "execution_count": 28,
     "metadata": {},
     "output_type": "execute_result"
    }
   ],
   "source": [
    "new = 1 / np.tan(b)\n",
    "new"
   ]
  },
  {
   "cell_type": "markdown",
   "id": "851f54cb-bb94-4550-9070-5142e149c05d",
   "metadata": {},
   "source": [
    "### Rounding operations"
   ]
  },
  {
   "cell_type": "code",
   "execution_count": 31,
   "id": "1855f94d-9dbb-4173-9f83-cfddb813d1ed",
   "metadata": {},
   "outputs": [
    {
     "data": {
      "text/plain": [
       "array([[-7.015, -0.458,  0.642],\n",
       "       [-2.211, -0.147,  0.642]])"
      ]
     },
     "execution_count": 31,
     "metadata": {},
     "output_type": "execute_result"
    }
   ],
   "source": [
    "# np.round(new, decimals=3)\n",
    "np.around(new, decimals=3)"
   ]
  },
  {
   "cell_type": "code",
   "execution_count": 32,
   "id": "a38b7653-c19a-4d63-9e4c-1aecb4a86f02",
   "metadata": {},
   "outputs": [
    {
     "data": {
      "text/plain": [
       "array([[-7., -0.,  0.],\n",
       "       [-2., -0.,  0.]])"
      ]
     },
     "execution_count": 32,
     "metadata": {},
     "output_type": "execute_result"
    }
   ],
   "source": [
    "np.fix(new)"
   ]
  },
  {
   "cell_type": "code",
   "execution_count": 33,
   "id": "7d2c60f4-aa53-4fe3-816c-5405b7f43d1a",
   "metadata": {},
   "outputs": [
    {
     "data": {
      "text/plain": [
       "array([[-8., -1.,  0.],\n",
       "       [-3., -1.,  0.]])"
      ]
     },
     "execution_count": 33,
     "metadata": {},
     "output_type": "execute_result"
    }
   ],
   "source": [
    "np.floor(new)"
   ]
  },
  {
   "cell_type": "code",
   "execution_count": 34,
   "id": "00f2242f-4aad-49d7-899e-0352fbc6286c",
   "metadata": {},
   "outputs": [
    {
     "data": {
      "text/plain": [
       "array([[-7., -0.,  1.],\n",
       "       [-2., -0.,  1.]])"
      ]
     },
     "execution_count": 34,
     "metadata": {},
     "output_type": "execute_result"
    }
   ],
   "source": [
    "np.ceil(new)"
   ]
  },
  {
   "cell_type": "code",
   "execution_count": null,
   "id": "5f8957d8-5aa5-4c8c-b39f-f7ef400b878b",
   "metadata": {},
   "outputs": [],
   "source": []
  },
  {
   "cell_type": "markdown",
   "id": "f86c6644-03c0-4a1a-ab2f-22b71f3581de",
   "metadata": {},
   "source": [
    "## 2. Matrix Operations\n",
    "\n",
    "Refer to : https://numpy.org/doc/1.26/reference/array_api.html#elementwise-functions"
   ]
  },
  {
   "cell_type": "code",
   "execution_count": 9,
   "id": "7624f006-f016-4a71-9006-2a3f8e97099f",
   "metadata": {},
   "outputs": [],
   "source": [
    "a = np.array([[4,5,6],[1,2,3]])\n",
    "b = np.random.randint(0,10, (3,3))"
   ]
  },
  {
   "cell_type": "code",
   "execution_count": 10,
   "id": "42c2e33c-2150-4272-8ce4-97519d39adbc",
   "metadata": {},
   "outputs": [
    {
     "data": {
      "text/plain": [
       "array([[4, 5, 6],\n",
       "       [1, 2, 3]])"
      ]
     },
     "execution_count": 10,
     "metadata": {},
     "output_type": "execute_result"
    }
   ],
   "source": [
    "a"
   ]
  },
  {
   "cell_type": "code",
   "execution_count": 11,
   "id": "e4041fb5-be45-4c0e-9392-38b13ec071fd",
   "metadata": {},
   "outputs": [
    {
     "data": {
      "text/plain": [
       "array([[7, 5, 8],\n",
       "       [8, 2, 5],\n",
       "       [5, 2, 5]])"
      ]
     },
     "execution_count": 11,
     "metadata": {},
     "output_type": "execute_result"
    }
   ],
   "source": [
    "b"
   ]
  },
  {
   "cell_type": "code",
   "execution_count": null,
   "id": "cc909b13-e2eb-48ba-9966-55e9cbd07c0e",
   "metadata": {},
   "outputs": [],
   "source": []
  },
  {
   "cell_type": "code",
   "execution_count": 13,
   "id": "bf1da060-2a71-41de-a75e-804fd617daee",
   "metadata": {},
   "outputs": [
    {
     "data": {
      "text/plain": [
       "array([[98, 42, 87],\n",
       "       [38, 15, 33]])"
      ]
     },
     "execution_count": 13,
     "metadata": {},
     "output_type": "execute_result"
    }
   ],
   "source": [
    "np.dot(a,b)\n",
    "# a@b"
   ]
  },
  {
   "cell_type": "code",
   "execution_count": 16,
   "id": "68be7749-b642-48d6-8ec4-4834630902cc",
   "metadata": {},
   "outputs": [
    {
     "data": {
      "text/plain": [
       "array([[ 80,  32],\n",
       "       [100,  43],\n",
       "       [ 61,  28]])"
      ]
     },
     "execution_count": 16,
     "metadata": {},
     "output_type": "execute_result"
    }
   ],
   "source": [
    "np.dot(b,a.T)"
   ]
  },
  {
   "cell_type": "code",
   "execution_count": null,
   "id": "ccd2a97f-40b1-4e46-8273-6e91ac50aa57",
   "metadata": {},
   "outputs": [],
   "source": []
  },
  {
   "cell_type": "code",
   "execution_count": 17,
   "id": "1c1a1329-ca1c-45d9-8236-2841bbe25ed7",
   "metadata": {},
   "outputs": [
    {
     "data": {
      "text/plain": [
       "array([[4, 1],\n",
       "       [5, 2],\n",
       "       [6, 3]])"
      ]
     },
     "execution_count": 17,
     "metadata": {},
     "output_type": "execute_result"
    }
   ],
   "source": [
    "# a.T\n",
    "np.transpose(a)"
   ]
  },
  {
   "cell_type": "code",
   "execution_count": null,
   "id": "563c58ad-d288-4f37-ad15-efd612a0f934",
   "metadata": {},
   "outputs": [],
   "source": []
  },
  {
   "cell_type": "code",
   "execution_count": 19,
   "id": "6be36177-d588-4699-a16c-14d7c78b6002",
   "metadata": {},
   "outputs": [
    {
     "data": {
      "text/plain": [
       "np.int64(17)"
      ]
     },
     "execution_count": 19,
     "metadata": {},
     "output_type": "execute_result"
    }
   ],
   "source": [
    "np.trace(b)"
   ]
  },
  {
   "cell_type": "code",
   "execution_count": null,
   "id": "b8458040-d0d9-49de-a340-75992be068d4",
   "metadata": {},
   "outputs": [],
   "source": []
  },
  {
   "cell_type": "code",
   "execution_count": 20,
   "id": "9f4c6a3a-31b3-410e-b64e-acb33d126ea0",
   "metadata": {},
   "outputs": [],
   "source": [
    "# Inverse of an array"
   ]
  },
  {
   "cell_type": "code",
   "execution_count": 22,
   "id": "162529d9-f7f7-4ccf-9660-f5199ae42efe",
   "metadata": {},
   "outputs": [
    {
     "data": {
      "text/plain": [
       "np.float64(-88.99999999999999)"
      ]
     },
     "execution_count": 22,
     "metadata": {},
     "output_type": "execute_result"
    }
   ],
   "source": [
    "np.linalg.det(b)"
   ]
  },
  {
   "cell_type": "code",
   "execution_count": 23,
   "id": "82757b9e-5cad-4c8e-bdeb-b2ab6e67fa38",
   "metadata": {},
   "outputs": [
    {
     "data": {
      "text/plain": [
       "array([[ 0.1011236 ,  0.12359551, -0.26966292],\n",
       "       [ 0.26966292, -0.33707865,  0.28089888],\n",
       "       [-0.2247191 ,  0.28089888, -0.06741573]])"
      ]
     },
     "execution_count": 23,
     "metadata": {},
     "output_type": "execute_result"
    }
   ],
   "source": [
    "np.linalg.inv(b)"
   ]
  },
  {
   "cell_type": "code",
   "execution_count": 25,
   "id": "41d6f5b8-88f2-46d8-b92a-ff75baf0508f",
   "metadata": {},
   "outputs": [
    {
     "data": {
      "text/plain": [
       "array([[ 1., -0.,  0.],\n",
       "       [ 0.,  1.,  0.],\n",
       "       [ 0.,  0.,  1.]])"
      ]
     },
     "execution_count": 25,
     "metadata": {},
     "output_type": "execute_result"
    }
   ],
   "source": [
    "np.dot(\n",
    "    b, np.linalg.inv(b)\n",
    ").round()"
   ]
  },
  {
   "cell_type": "code",
   "execution_count": null,
   "id": "b8b5e27e-ff3e-44a7-8b04-61f28c51cd62",
   "metadata": {},
   "outputs": [],
   "source": []
  },
  {
   "cell_type": "code",
   "execution_count": null,
   "id": "92ff5aae-1671-4b71-9970-205ac168f4e5",
   "metadata": {},
   "outputs": [],
   "source": []
  },
  {
   "cell_type": "markdown",
   "id": "5753288a-1b3d-4933-9bfe-deda21cf2c57",
   "metadata": {},
   "source": [
    "Solve euations:\n",
    "` x + 2y = 1` , `3x+5y = 2`"
   ]
  },
  {
   "cell_type": "code",
   "execution_count": 2,
   "id": "4bd40b8e-432d-44a8-af03-665eb3acbcd2",
   "metadata": {},
   "outputs": [],
   "source": [
    "a = np.array(\n",
    "    [[1,2],[3,5]]\n",
    ")\n",
    "b = np.array(\n",
    "    [1,2]\n",
    ")"
   ]
  },
  {
   "cell_type": "code",
   "execution_count": 7,
   "id": "e419d63a-2010-4282-9f2e-ac41a22b0a16",
   "metadata": {},
   "outputs": [
    {
     "data": {
      "text/plain": [
       "array([-1.,  1.])"
      ]
     },
     "execution_count": 7,
     "metadata": {},
     "output_type": "execute_result"
    }
   ],
   "source": [
    "x = np.linalg.solve(a,b)\n",
    "x"
   ]
  },
  {
   "cell_type": "code",
   "execution_count": 5,
   "id": "4edfd94c-66a7-4860-a912-1c0c2f9683ea",
   "metadata": {},
   "outputs": [
    {
     "data": {
      "text/plain": [
       "array([1., 2.])"
      ]
     },
     "execution_count": 5,
     "metadata": {},
     "output_type": "execute_result"
    }
   ],
   "source": [
    "np.dot(a,x)"
   ]
  },
  {
   "cell_type": "code",
   "execution_count": 18,
   "id": "ec0f8617-6494-4a0c-ba22-01d29fb297e5",
   "metadata": {},
   "outputs": [],
   "source": [
    "## Array Broadcasting"
   ]
  },
  {
   "cell_type": "code",
   "execution_count": 20,
   "id": "f02547bb-c3f6-4e07-be33-e9eb1e366603",
   "metadata": {},
   "outputs": [
    {
     "data": {
      "text/plain": [
       "array([[ 8, 15, 24],\n",
       "       [ 2,  6, 12]])"
      ]
     },
     "execution_count": 20,
     "metadata": {},
     "output_type": "execute_result"
    }
   ],
   "source": [
    "a * np.array([2,3,4])"
   ]
  },
  {
   "cell_type": "code",
   "execution_count": null,
   "id": "bc7e8b33-ad96-4e31-baaa-1fb9d59d13c6",
   "metadata": {},
   "outputs": [],
   "source": []
  }
 ],
 "metadata": {
  "kernelspec": {
   "display_name": "Python 3 (ipykernel)",
   "language": "python",
   "name": "python3"
  },
  "language_info": {
   "codemirror_mode": {
    "name": "ipython",
    "version": 3
   },
   "file_extension": ".py",
   "mimetype": "text/x-python",
   "name": "python",
   "nbconvert_exporter": "python",
   "pygments_lexer": "ipython3",
   "version": "3.10.12"
  }
 },
 "nbformat": 4,
 "nbformat_minor": 5
}
