{
 "cells": [
  {
   "cell_type": "code",
   "execution_count": 6,
   "id": "3d2c3a44-f9b8-411a-88e4-93d577b38ac6",
   "metadata": {},
   "outputs": [],
   "source": [
    "import pickle\n",
    "import numpy as np"
   ]
  },
  {
   "cell_type": "code",
   "execution_count": 2,
   "id": "58634f63-9440-447c-89a5-6baf8a9aa190",
   "metadata": {},
   "outputs": [
    {
     "name": "stderr",
     "output_type": "stream",
     "text": [
      "2025-09-04 08:37:02.115078: I tensorflow/core/util/port.cc:153] oneDNN custom operations are on. You may see slightly different numerical results due to floating-point round-off errors from different computation orders. To turn them off, set the environment variable `TF_ENABLE_ONEDNN_OPTS=0`.\n",
      "2025-09-04 08:37:02.124706: E external/local_xla/xla/stream_executor/cuda/cuda_fft.cc:477] Unable to register cuFFT factory: Attempting to register factory for plugin cuFFT when one has already been registered\n",
      "WARNING: All log messages before absl::InitializeLog() is called are written to STDERR\n",
      "E0000 00:00:1756954322.135601   53981 cuda_dnn.cc:8310] Unable to register cuDNN factory: Attempting to register factory for plugin cuDNN when one has already been registered\n",
      "E0000 00:00:1756954322.138718   53981 cuda_blas.cc:1418] Unable to register cuBLAS factory: Attempting to register factory for plugin cuBLAS when one has already been registered\n",
      "2025-09-04 08:37:02.150106: I tensorflow/core/platform/cpu_feature_guard.cc:210] This TensorFlow binary is optimized to use available CPU instructions in performance-critical operations.\n",
      "To enable the following instructions: AVX2 AVX_VNNI FMA, in other operations, rebuild TensorFlow with the appropriate compiler flags.\n",
      "I0000 00:00:1756954323.108272   53981 gpu_device.cc:2022] Created device /job:localhost/replica:0/task:0/device:GPU:0 with 1185 MB memory:  -> device: 0, name: NVIDIA GeForce RTX 3060 Laptop GPU, pci bus id: 0000:01:00.0, compute capability: 8.6\n"
     ]
    }
   ],
   "source": [
    "with open(\"iris_classifier.pkl\", \"rb\") as file:\n",
    "    objects = pickle.load(file)"
   ]
  },
  {
   "cell_type": "code",
   "execution_count": 4,
   "id": "78f3dbde-441b-45f5-8f60-3e0c16248658",
   "metadata": {},
   "outputs": [],
   "source": [
    "scaler = objects['scaler']\n",
    "onehot_encoder = objects['encoder']\n",
    "model = objects['tf_model']"
   ]
  },
  {
   "cell_type": "code",
   "execution_count": 34,
   "id": "8d5c9c49-ab56-4d71-ba9b-f1888facab71",
   "metadata": {},
   "outputs": [],
   "source": [
    "my_data = np.array([[12.6,2.6,8.5,0.9], [3.5,1.1,2,0.76],[6.1,3.0,4.9,1.8]])"
   ]
  },
  {
   "cell_type": "code",
   "execution_count": 35,
   "id": "d4f34fb7-e8bc-41cb-b0a1-9752e93babb9",
   "metadata": {},
   "outputs": [],
   "source": [
    "# Pre processing\n",
    "my_data_scale = scaler.transform(my_data)"
   ]
  },
  {
   "cell_type": "code",
   "execution_count": 36,
   "id": "22c5f226-7813-4e7f-93c8-4fc7ebb7c3fe",
   "metadata": {},
   "outputs": [
    {
     "name": "stdout",
     "output_type": "stream",
     "text": [
      "\u001b[1m1/1\u001b[0m \u001b[32m━━━━━━━━━━━━━━━━━━━━\u001b[0m\u001b[37m\u001b[0m \u001b[1m0s\u001b[0m 263ms/step\n"
     ]
    }
   ],
   "source": [
    "output = model.predict(my_data_scale)"
   ]
  },
  {
   "cell_type": "code",
   "execution_count": 37,
   "id": "8b451ead-54fb-4213-8fd0-6acff6c026ff",
   "metadata": {},
   "outputs": [
    {
     "name": "stdout",
     "output_type": "stream",
     "text": [
      "Iris-versicolor\n",
      "Iris-versicolor\n",
      "Iris-virginica\n"
     ]
    }
   ],
   "source": [
    "cats = onehot_encoder.categories_[0]\n",
    "for res in  np.argmax(output, axis=1):\n",
    "    print(cats[res])"
   ]
  },
  {
   "cell_type": "code",
   "execution_count": null,
   "id": "dd281d65-addd-45f8-99e5-7ccca01ad2ed",
   "metadata": {},
   "outputs": [],
   "source": []
  }
 ],
 "metadata": {
  "kernelspec": {
   "display_name": "Python 3 (ipykernel)",
   "language": "python",
   "name": "python3"
  },
  "language_info": {
   "codemirror_mode": {
    "name": "ipython",
    "version": 3
   },
   "file_extension": ".py",
   "mimetype": "text/x-python",
   "name": "python",
   "nbconvert_exporter": "python",
   "pygments_lexer": "ipython3",
   "version": "3.10.12"
  }
 },
 "nbformat": 4,
 "nbformat_minor": 5
}
